{
 "cells": [
  {
   "cell_type": "markdown",
   "metadata": {},
   "source": [
    "# Create hybridization.json from a directory of image files"
   ]
  },
  {
   "cell_type": "markdown",
   "metadata": {},
   "source": [
    "This notebook creates a starfish json file from a directory of files and shows how to load the resulting data using starfish. "
   ]
  },
  {
   "cell_type": "code",
   "execution_count": 1,
   "metadata": {},
   "outputs": [],
   "source": [
    "import os\n",
    "import re\n",
    "import json\n",
    "import numpy as np\n",
    "import glob\n",
    "from skimage.io import imread, imsave\n",
    "from collections import Counter, OrderedDict\n",
    "from typing import Mapping, Dict, List, Generator, Tuple\n",
    "\n",
    "from starfish.constants import Indices\n",
    "import hashlib\n",
    "from itertools import product"
   ]
  },
  {
   "cell_type": "code",
   "execution_count": 2,
   "metadata": {},
   "outputs": [],
   "source": [
    "def file_hash(filename: str) -> str:\n",
    "    \"\"\"return sha256 hash for file\"\"\"\n",
    "    h = hashlib.sha256()\n",
    "    with open(filename, 'rb', buffering=0) as f:\n",
    "        for b in iter(lambda : f.read(128*1024), b''):\n",
    "            h.update(b)\n",
    "    return h.hexdigest()"
   ]
  },
  {
   "cell_type": "code",
   "execution_count": 3,
   "metadata": {},
   "outputs": [],
   "source": [
    "# simple experiment metadata object\n",
    "experiment_metadata = {\n",
    "    \"version\": \"0.0.0\",\n",
    "    \"hybridization_images\": \"hybridization.json\",\n",
    "    \"auxiliary_images\": {\n",
    "        \"nuclei\": \"nuclei.json\"\n",
    "    }\n",
    "}"
   ]
  },
  {
   "cell_type": "markdown",
   "metadata": {},
   "source": [
    "## Write a few methods to generate JSON data"
   ]
  },
  {
   "cell_type": "markdown",
   "metadata": {},
   "source": [
    "The actual execution block is in the next section"
   ]
  },
  {
   "cell_type": "code",
   "execution_count": 4,
   "metadata": {},
   "outputs": [],
   "source": [
    "def dypfish_files_to_indices(glob_pattern: str) -> Generator[Tuple[str, Dict[Indices, int]], None, None]:\n",
    "    \"\"\"yield metadata parsed from the read name of a globbed directory\n",
    "    \n",
    "    Parameters\n",
    "    ----------\n",
    "    glob_pattern : str\n",
    "    \n",
    "    Notes\n",
    "    -----\n",
    "    - For DypFISH, hybridization round is not used, so it is just always 1. \n",
    "    \n",
    "    Yields\n",
    "    ------\n",
    "    Tuple[str, Dict[Indices, int]] : \n",
    "        tuple of filename and a dictionary that contains the tile metadata (channel, hybridization round, and z-plane)\n",
    "    \"\"\"\n",
    "    regex = re.compile(r'img_000000000_Lamp ([A-Z0-9]+?) low_([0-9]{3}).tif')\n",
    "    files = glob.glob(glob_pattern)\n",
    "    \n",
    "    channel_map = {\n",
    "        'DAPI': 0,\n",
    "        'CY3': 0,\n",
    "        'CY5': 1\n",
    "    }\n",
    "    \n",
    "    for f in files:\n",
    "        dir, basename = os.path.split(f)\n",
    "        raw_channel, raw_z = re.match(regex, basename).groups()\n",
    "        z = int(raw_z)\n",
    "        channel = channel_map[raw_channel]\n",
    "        yield f, {Indices.CH: channel, Indices.HYB: 0, Indices.Z: z}\n",
    "\n",
    "def create_hybridization_json(\n",
    "    files_to_indices_map: Dict[str, Dict[Indices, int]], default_tile_shape=[512, 512], default_tile_format='TIFF')\\\n",
    "        -> dict:\n",
    "    \"\"\"Creates a hybridization json file that specifies how the TIFF files construct a 5-d image tensor\n",
    "    Parameters\n",
    "    ----------\n",
    "    files_to_indices_map : Generator[Tuple[str, Dict[Indices, int]], None, None]\n",
    "        map of file names, to the indices for that file\n",
    "    \n",
    "    Returns\n",
    "    -------\n",
    "    dict : \n",
    "        hybridization json file in starfish v0.0.0 format\n",
    "        \n",
    "    \"\"\"\n",
    "    tiles = []\n",
    "    \n",
    "    for file_name, tile_indices in files_to_indices_map:\n",
    "        hash_ = file_hash(file_name)\n",
    "        tiles.append(\n",
    "            {\n",
    "                \"coordinates\": {\n",
    "                    \"x\": [0, 0.0001],\n",
    "                    \"y\": [0, 0.0001],\n",
    "                    \"z\": [0, 0.0001],\n",
    "                },\n",
    "                \"indices\": {k.value: v for (k, v) in tile_indices.items()},\n",
    "                \"file\": os.path.basename(file_name),\n",
    "                \"sha256\": hash_\n",
    "            }\n",
    "        )\n",
    "    \n",
    "    # get tile shape\n",
    "    hybs = 1 + max(t[\"indices\"][Indices.HYB] for t in tiles)\n",
    "    channels = 1 + max(t[\"indices\"][Indices.CH] for t in tiles)\n",
    "    z_planes = 1 + max(t[\"indices\"][Indices.Z] for t in tiles)\n",
    "\n",
    "    return {\n",
    "        \"version\": \"0.0.0\",\n",
    "        \"dimensions\": [\"x\", \"y\"] + list(k.value for k in tile_indices.keys()),\n",
    "        \"default_tile_shape\": default_tile_shape,\n",
    "        \"default_tile_format\": default_tile_format,\n",
    "        \"shape\": {\n",
    "            f\"{Indices.HYB.value}\": hybs,\n",
    "            f\"{Indices.CH.value}\": channels,\n",
    "            f\"{Indices.Z.value}\": z_planes\n",
    "        },\n",
    "        \"tiles\": tiles\n",
    "    }\n",
    "\n",
    "# faked up codebook\n",
    "dypfish_codebook = [\n",
    "    {\n",
    "        \"codeword\": {'c': 0, 'h': 0, 'v': 1}, \n",
    "        \"gene_name\": \"gene_1\"\n",
    "    },\n",
    "    {\n",
    "        \"codeword\": {'c': 1, 'h': 0, 'v': 1},\n",
    "        \"gene_name\": \"gene_2\"\n",
    "    }\n",
    "]"
   ]
  },
  {
   "cell_type": "markdown",
   "metadata": {},
   "source": [
    "# Create the starfish specification files"
   ]
  },
  {
   "cell_type": "code",
   "execution_count": 5,
   "metadata": {},
   "outputs": [],
   "source": [
    "NUCLEI_WILDCARD = \"DAPI\"\n",
    "GENE_WILDCARD = \"CY\"\n",
    "DIRECTORY = os.path.expanduser(\"~/Desktop/dypfish/\")  # run this notebook in the same directory as the image files\n",
    "\n",
    "# generate maps of filenames to tile metadata\n",
    "nuclei_indices = dypfish_files_to_indices(os.path.join(DIRECTORY, '*DAPI*.tif'))\n",
    "gene_indices = dypfish_files_to_indices(os.path.join(DIRECTORY, '*CY*.tif'))\n",
    "\n",
    "# create the hybridization json\n",
    "hyb_json = create_hybridization_json(gene_indices)\n",
    "\n",
    "# ... and the nuclei json\n",
    "nuclei_json = create_hybridization_json(nuclei_indices)\n",
    "\n",
    "# write everything to disk\n",
    "with open(os.path.join(DIRECTORY, 'hybridization.json'), 'w') as f:\n",
    "    json.dump(hyb_json, f)\n",
    "with open(os.path.join(DIRECTORY, 'nuclei.json'), 'w') as f:\n",
    "    json.dump(nuclei_json, f)\n",
    "with open(os.path.join(DIRECTORY, 'experiment.json'), 'w') as f:\n",
    "    json.dump(experiment_metadata, f)\n",
    "with open(os.path.join(DIRECTORY, 'codebook.json'), 'w') as f:\n",
    "    json.dump(dypfish_codebook, f)"
   ]
  },
  {
   "cell_type": "markdown",
   "metadata": {},
   "source": [
    "Now, we can read the data into starfish, and below we display the 1st channel (CY3)"
   ]
  },
  {
   "cell_type": "code",
   "execution_count": 6,
   "metadata": {},
   "outputs": [],
   "source": [
    "from starfish.io import Stack\n",
    "\n",
    "s = Stack.from_experiment_json(os.path.join(DIRECTORY, 'experiment.json'))"
   ]
  },
  {
   "cell_type": "code",
   "execution_count": 7,
   "metadata": {},
   "outputs": [
    {
     "name": "stdout",
     "output_type": "stream",
     "text": [
      "Rescaling ...\n"
     ]
    },
    {
     "data": {
      "application/vnd.jupyter.widget-view+json": {
       "model_id": "1d920b5745d94f31b348c580e7024cfb",
       "version_major": 2,
       "version_minor": 0
      },
      "text/plain": [
       "interactive(children=(IntSlider(value=0, description='plane_index', max=13), Output()), _dom_classes=('widget-…"
      ]
     },
     "metadata": {},
     "output_type": "display_data"
    },
    {
     "data": {
      "text/plain": [
       "<function starfish.image._stack.ImageStack.show_stack.<locals>.display_slice(plane_index=0)>"
      ]
     },
     "execution_count": 7,
     "metadata": {},
     "output_type": "execute_result"
    }
   ],
   "source": [
    "s.image.show_stack({Indices.CH: 0}, rescale=False)"
   ]
  },
  {
   "cell_type": "code",
   "execution_count": null,
   "metadata": {},
   "outputs": [],
   "source": []
  }
 ],
 "metadata": {
  "kernelspec": {
   "display_name": "Python 3",
   "language": "python",
   "name": "python3"
  },
  "language_info": {
   "codemirror_mode": {
    "name": "ipython",
    "version": 3
   },
   "file_extension": ".py",
   "mimetype": "text/x-python",
   "name": "python",
   "nbconvert_exporter": "python",
   "pygments_lexer": "ipython3",
   "version": "3.6.5"
  }
 },
 "nbformat": 4,
 "nbformat_minor": 2
}
