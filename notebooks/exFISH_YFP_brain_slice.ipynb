{
 "cells": [
  {
   "cell_type": "markdown",
   "metadata": {},
   "source": [
    "# Reproduce Allen smFISH results with Starfish\n",
    "\n",
    "This notebook walks through a work flow that reproduces the smFISH result for one field of view using the starfish package. "
   ]
  },
  {
   "cell_type": "code",
   "execution_count": null,
   "metadata": {},
   "outputs": [],
   "source": [
    "from starfish.io import Stack\n",
    "from starfish.image import ImageStack\n",
    "from starfish.constants import Indices\n",
    "import os"
   ]
  },
  {
   "cell_type": "code",
   "execution_count": null,
   "metadata": {},
   "outputs": [],
   "source": [
    "experiment_json = 'https://dmf0bdeheu4zf.cloudfront.net/20180730/exFISH/YFP_brain_slice/fov_001/experiment.json'"
   ]
  },
  {
   "cell_type": "markdown",
   "metadata": {},
   "source": [
    "Load the Stack object, which while not well-named right now, should be thought of as an access point to an \"ImageDataSet\". In practice, we expect the Stack object or something similar to it to be an access point for _multiple_ fields of view. In practice, the thing we talk about as a \"TileSet\" is the `Stack.image` object. The data are currently stored in-memory in a `numpy.ndarray`, and that is where most of our operations are done. \n",
    "\n",
    "The numpy array can be accessed through Stack.image.numpy\\_array (public method, read only) or Stack.image.\\_data (read and write)"
   ]
  },
  {
   "cell_type": "code",
   "execution_count": null,
   "metadata": {},
   "outputs": [],
   "source": [
    "from starfish.codebook import Codebook\n",
    "codebook = Codebook.from_json('https://dmf0bdeheu4zf.cloudfront.net/20180730/exFISH/YFP_brain_slice/fov_001/experiment.json')\n",
    "codebook"
   ]
  },
  {
   "cell_type": "markdown",
   "metadata": {},
   "source": [
    "We're ready now to load the experiment into starfish and take a look at the data (This experiment is big, it takes a few minutes):"
   ]
  },
  {
   "cell_type": "code",
   "execution_count": null,
   "metadata": {},
   "outputs": [],
   "source": [
    "s = Stack.from_experiment_json(experiment_json)\n",
    "import warnings\n",
    "with warnings.catch_warnings():\n",
    "    warnings.simplefilter('ignore', FutureWarning)\n",
    "    s.image.show_stack({Indices.CH: 0}, rescale=True)"
   ]
  }
 ],
 "metadata": {
  "kernelspec": {
   "display_name": "Python 3",
   "language": "python",
   "name": "python3"
  },
  "language_info": {
   "codemirror_mode": {
    "name": "ipython",
    "version": 3
   },
   "file_extension": ".py",
   "mimetype": "text/x-python",
   "name": "python",
   "nbconvert_exporter": "python",
   "pygments_lexer": "ipython3",
   "version": "3.6.5"
  }
 },
 "nbformat": 4,
 "nbformat_minor": 2
}
