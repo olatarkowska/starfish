{
 "cells": [
  {
   "cell_type": "code",
   "execution_count": 1,
   "metadata": {},
   "outputs": [
    {
     "name": "stderr",
     "output_type": "stream",
     "text": [
      "/opt/local/Library/Frameworks/Python.framework/Versions/3.6/lib/python3.6/site-packages/vispy/visuals/isocurve.py:22: UserWarning: VisPy is not yet compatible with matplotlib 2.2+\n",
      "  warnings.warn(\"VisPy is not yet compatible with matplotlib 2.2+\")\n"
     ]
    }
   ],
   "source": [
    "%gui qt5\n",
    "\n",
    "from starfish import data\n",
    "from starfish.types import Indices"
   ]
  },
  {
   "cell_type": "code",
   "execution_count": 2,
   "metadata": {},
   "outputs": [
    {
     "name": "stderr",
     "output_type": "stream",
     "text": [
      "100%|██████████| 16/16 [00:00<00:00, 21.31it/s]\n"
     ]
    },
    {
     "name": "stdout",
     "output_type": "stream",
     "text": [
      "OrderedDict([(<Indices.ROUND: 'r'>, 8), (<Indices.CH: 'c'>, 2), (<Indices.Z: 'z'>, 1), ('y', 2048), ('x', 2048)])\n"
     ]
    }
   ],
   "source": [
    "# load the data from cloudfront\n",
    "experiment = data.MERFISH(use_test_data=False)\n",
    "\n",
    "primary_image = experiment.fov().primary_image\n",
    "\n",
    "print(primary_image.shape)"
   ]
  },
  {
   "cell_type": "code",
   "execution_count": 3,
   "metadata": {},
   "outputs": [],
   "source": [
    "# show all imaging rounds of channel 0\n",
    "primary_image.show_stack_napari({Indices.CH: 0})"
   ]
  },
  {
   "cell_type": "code",
   "execution_count": 6,
   "metadata": {},
   "outputs": [],
   "source": [
    "# Show full stack\n",
    "primary_image.show_stack_napari({Indices.CH: slice(0, primary_image.num_chs),\n",
    "                                 Indices.ROUND: slice(0, primary_image.num_rounds),\n",
    "                                 Indices.Z:slice(0, primary_image.num_zlayers)})"
   ]
  }
 ],
 "metadata": {
  "kernelspec": {
   "display_name": "Python 3",
   "language": "python",
   "name": "python3"
  },
  "language_info": {
   "codemirror_mode": {
    "name": "ipython",
    "version": 3
   },
   "file_extension": ".py",
   "mimetype": "text/x-python",
   "name": "python",
   "nbconvert_exporter": "python",
   "pygments_lexer": "ipython3",
   "version": "3.6.4"
  }
 },
 "nbformat": 4,
 "nbformat_minor": 2
}
