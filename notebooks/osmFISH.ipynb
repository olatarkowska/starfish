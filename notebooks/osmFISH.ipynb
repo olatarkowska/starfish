{
 "cells": [
  {
   "cell_type": "markdown",
   "metadata": {},
   "source": [
    "## Loading the data into Starfish"
   ]
  },
  {
   "cell_type": "code",
   "execution_count": 8,
   "metadata": {},
   "outputs": [],
   "source": [
    "from starfish import data, FieldOfView, Experiment\n",
    "from starfish.types import Indices\n",
    "import os"
   ]
  },
  {
   "cell_type": "markdown",
   "metadata": {},
   "source": [
    "This notebook demonstrates how to load osmFISH data into starfish. Below loads fov_001, however fovs 002 and 003 are also converted and can be loaded by exchanging the number in the cloudflare link. The data can be dumped for local loading with `s.image.write`"
   ]
  },
  {
   "cell_type": "code",
   "execution_count": 12,
   "metadata": {},
   "outputs": [
    {
     "name": "stdout",
     "output_type": "stream",
     "text": [
      "<starfish.Experiment (FOVs=153)>\n",
      "{\n",
      "fov_116: <starfish.FieldOfView>\n",
      "  Primary Image: <slicedimage._tileset.TileSet object at 0x123dae390>\n",
      "  Auxiliary Images:\n",
      "    \n",
      "fov_012: <starfish.FieldOfView>\n",
      "  Primary Image: <slicedimage._tileset.TileSet object at 0x123d31160>\n",
      "  Auxiliary Images:\n",
      "    \n",
      "fov_003: <starfish.FieldOfView>\n",
      "  Primary Image: <slicedimage._tileset.TileSet object at 0x123dc0be0>\n",
      "  Auxiliary Images:\n",
      "    \n",
      "fov_069: <starfish.FieldOfView>\n",
      "  Primary Image: <slicedimage._tileset.TileSet object at 0x123cf0ba8>\n",
      "  Auxiliary Images:\n",
      "    \n",
      "  ...,\n",
      "}\n"
     ]
    }
   ],
   "source": [
    "experiment_json = os.path.abspath(\"/Users/ola/OMERO/stitching/data/005G/out/experiment.json\")\n",
    "experiment = Experiment.from_json(experiment_json)\n",
    "print(experiment)"
   ]
  },
  {
   "cell_type": "markdown",
   "metadata": {},
   "source": [
    "The below plot displays the z-volume for channel 0 of fov_001"
   ]
  },
  {
   "cell_type": "code",
   "execution_count": 17,
   "metadata": {},
   "outputs": [
    {
     "data": {
      "application/vnd.jupyter.widget-view+json": {
       "model_id": "228cb7b5c96041d6bfd01e4463f41e60",
       "version_major": 2,
       "version_minor": 0
      },
      "text/plain": [
       "interactive(children=(IntSlider(value=0, description='plane_index', max=0), Output()), _dom_classes=('widget-i…"
      ]
     },
     "metadata": {},
     "output_type": "display_data"
    },
    {
     "data": {
      "text/plain": [
       "<function starfish.imagestack.imagestack.ImageStack._show_matplotlib_inline.<locals>.display_slice(plane_index=0)>"
      ]
     },
     "execution_count": 17,
     "metadata": {},
     "output_type": "execute_result"
    }
   ],
   "source": [
    "image = experiment.fov()[FieldOfView.PRIMARY_IMAGES]\n",
    "image.show_stack({Indices.CH: 0})"
   ]
  },
  {
   "cell_type": "code",
   "execution_count": null,
   "metadata": {},
   "outputs": [],
   "source": []
  }
 ],
 "metadata": {
  "kernelspec": {
   "display_name": "Python 3",
   "language": "python",
   "name": "python3"
  },
  "language_info": {
   "codemirror_mode": {
    "name": "ipython",
    "version": 3
   },
   "file_extension": ".py",
   "mimetype": "text/x-python",
   "name": "python",
   "nbconvert_exporter": "python",
   "pygments_lexer": "ipython3",
   "version": "3.6.1"
  }
 },
 "nbformat": 4,
 "nbformat_minor": 2
}
